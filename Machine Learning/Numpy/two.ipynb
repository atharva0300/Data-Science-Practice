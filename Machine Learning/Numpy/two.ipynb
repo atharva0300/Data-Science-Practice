{
 "cells": [
  {
   "cell_type": "code",
   "execution_count": 2,
   "source": [
    "import numpy as np"
   ],
   "outputs": [],
   "metadata": {}
  },
  {
   "cell_type": "code",
   "execution_count": 4,
   "source": [
    "# numpy : linspace \r\n",
    "# This function is similar to arange() function. In this function, instead of step size, \r\n",
    "# the number of evenly spaced values between the interval is specified. \r\n",
    "# The usage of this function is as follows: \r\n",
    "# numpy.linspace(start, stop, num, endpoint, retstep, dtype) \r\n",
    "\r\n",
    "# start = the starting value \r\n",
    "# stop = the stop value \r\n",
    "# num = the number of evenly spaces samples. default is 50 \r\n",
    "# endpoint = true by default ( if including stop as well ) , false ( excludes stop )\r\n",
    "# retstep = true , returns samples and step between the consecutive numbers \r\n",
    "# dtype = data type \r\n",
    "\r\n",
    "a = np.linspace(10 , 20 , 5)\r\n",
    "print(a)\r\n"
   ],
   "outputs": [
    {
     "output_type": "stream",
     "name": "stdout",
     "text": [
      "[10.  12.5 15.  17.5 20. ]\n"
     ]
    }
   ],
   "metadata": {}
  },
  {
   "cell_type": "code",
   "execution_count": 6,
   "source": [
    "x = np.linspace(10 , 20 , 5 , endpoint = False)\r\n",
    "print(x)"
   ],
   "outputs": [
    {
     "output_type": "stream",
     "name": "stdout",
     "text": [
      "[10. 12. 14. 16. 18.]\n"
     ]
    }
   ],
   "metadata": {}
  },
  {
   "cell_type": "code",
   "execution_count": 8,
   "source": [
    "x = np.linspace(10 , 20 , 5 , retstep = True)\r\n",
    "print(x)"
   ],
   "outputs": [
    {
     "output_type": "stream",
     "name": "stdout",
     "text": [
      "(array([10. , 12.5, 15. , 17.5, 20. ]), 2.5)\n"
     ]
    }
   ],
   "metadata": {}
  },
  {
   "cell_type": "code",
   "execution_count": 10,
   "source": [
    "# numpy logspace \r\n",
    "# returns nparray object that contains the numbers that are evenly spaced on a log scale \r\n",
    "# numpy.logscale(start, stop, num, endpoint, base, dtype) \r\n",
    "\r\n",
    "# start = start of the sequence \r\n",
    "# stop = stop of the sequence \r\n",
    "# num = number of evely spaced values. 50 by default \r\n",
    "# endpoint = TRUE by defaault ( includes stop ). false ( excludes stop )\r\n",
    "# base = base of the log \r\n",
    "# dtype = data type \r\n",
    "\r\n",
    "a = np.logspace(10 , 20 , num = 5 , base = 2)\r\n",
    "print(a)"
   ],
   "outputs": [
    {
     "output_type": "stream",
     "name": "stdout",
     "text": [
      "[1.02400000e+03 5.79261875e+03 3.27680000e+04 1.85363800e+05\n",
      " 1.04857600e+06]\n"
     ]
    }
   ],
   "metadata": {}
  },
  {
   "cell_type": "code",
   "execution_count": 14,
   "source": [
    "# numpy slice \r\n",
    "# slices the array \r\n",
    "\r\n",
    "a = np.arange(10)\r\n",
    "b = slice(2,7,2)\r\n",
    "print(a[b])"
   ],
   "outputs": [
    {
     "output_type": "stream",
     "name": "stdout",
     "text": [
      "[2 4 6]\n"
     ]
    }
   ],
   "metadata": {}
  },
  {
   "cell_type": "code",
   "execution_count": 19,
   "source": [
    "a = np.arange(20)\r\n",
    "print(a[2:7:2])\r\n",
    "print(a[5])\r\n",
    "print(a[2:])\r\n",
    "print(a[: 13])\r\n",
    "print(a[2: 10])"
   ],
   "outputs": [
    {
     "output_type": "stream",
     "name": "stdout",
     "text": [
      "[2 4 6]\n",
      "5\n",
      "[ 2  3  4  5  6  7  8  9 10 11 12 13 14 15 16 17 18 19]\n",
      "[ 0  1  2  3  4  5  6  7  8  9 10 11 12]\n",
      "[2 3 4 5 6 7 8 9]\n"
     ]
    }
   ],
   "metadata": {}
  },
  {
   "cell_type": "code",
   "execution_count": 21,
   "source": [
    "a = np.array([(1,2,3) , (4,5,6) , (7,8,9)])\r\n",
    "print(a)\r\n",
    "print()\r\n",
    "print(a[1:])"
   ],
   "outputs": [
    {
     "output_type": "stream",
     "name": "stdout",
     "text": [
      "[[1 2 3]\n",
      " [4 5 6]\n",
      " [7 8 9]]\n",
      "\n",
      "[[4 5 6]\n",
      " [7 8 9]]\n"
     ]
    }
   ],
   "metadata": {}
  },
  {
   "cell_type": "code",
   "execution_count": 25,
   "source": [
    "print(a[... , 1])# items in teh 2nd col"
   ],
   "outputs": [
    {
     "output_type": "stream",
     "name": "stdout",
     "text": [
      "[2 5 8]\n"
     ]
    }
   ],
   "metadata": {}
  },
  {
   "cell_type": "code",
   "execution_count": 26,
   "source": [
    "print(a[... ,2])\r\n",
    "# items in the 3rd col"
   ],
   "outputs": [
    {
     "output_type": "stream",
     "name": "stdout",
     "text": [
      "[3 6 9]\n"
     ]
    }
   ],
   "metadata": {}
  },
  {
   "cell_type": "code",
   "execution_count": 27,
   "source": [
    "print(a[1,...])\r\n",
    "# items in the 2nd row "
   ],
   "outputs": [
    {
     "output_type": "stream",
     "name": "stdout",
     "text": [
      "[4 5 6]\n"
     ]
    }
   ],
   "metadata": {}
  },
  {
   "cell_type": "code",
   "execution_count": 48,
   "source": [
    "# advanced indexing \r\n",
    "a = np.array([[1,2] ,[3,4] , [5,6]])\r\n",
    "print(a)\r\n",
    "print(a.ndim)\r\n",
    "print()\r\n",
    " # print(a[[1,0] , [0,1] , [1,1]])\r\n",
    "b = a[[0,1,2] , [0,1,0]]\r\n",
    "print()\r\n",
    "print(a[[0,1,2,0,1] , [0,1,0,1,0]])\r\n",
    "print()\r\n",
    "print(b)\r\n"
   ],
   "outputs": [
    {
     "output_type": "stream",
     "name": "stdout",
     "text": [
      "[[1 2]\n",
      " [3 4]\n",
      " [5 6]]\n",
      "2\n",
      "\n",
      "\n",
      "[1 4 5 2 3]\n",
      "\n",
      "[1 4 5]\n"
     ]
    }
   ],
   "metadata": {}
  },
  {
   "cell_type": "code",
   "execution_count": 52,
   "source": [
    "x = np.array([[0,1,2] , [3,4,5] , [6,7,8] , [9,10,11]])\r\n",
    "print(x)\r\n",
    "rows = np.array([[0,0] , [3,3]])\r\n",
    "cols = np.array([[0,2], [1,2]])\r\n",
    "b = x[rows  , cols]\r\n",
    "print()\r\n",
    "print(b)"
   ],
   "outputs": [
    {
     "output_type": "stream",
     "name": "stdout",
     "text": [
      "[[ 0  1  2]\n",
      " [ 3  4  5]\n",
      " [ 6  7  8]\n",
      " [ 9 10 11]]\n",
      "\n",
      "[[ 0  2]\n",
      " [10 11]]\n"
     ]
    }
   ],
   "metadata": {}
  },
  {
   "cell_type": "code",
   "execution_count": 54,
   "source": [
    "# boolean array indexing \r\n",
    "\r\n",
    "x = np.array([[0,1,2] , [3,4,5] , [6,7,8]])\r\n",
    "print(x[x> 5])\r\n",
    "# prints all the elements greater than 5"
   ],
   "outputs": [
    {
     "output_type": "stream",
     "name": "stdout",
     "text": [
      "[6 7 8]\n"
     ]
    }
   ],
   "metadata": {}
  },
  {
   "cell_type": "code",
   "execution_count": 69,
   "source": [
    "# NaN numbers \r\n",
    "\r\n",
    "x= np.array([[np.nan , 1] , [2 , np.nan]])\r\n",
    "print(x)\r\n",
    "\r\n",
    "#ommiting the nan number s\r\n",
    "print()\r\n",
    "print(x[~np.isnan(x)])\r\n",
    "print(x)\r\n",
    "print(x.dtype)"
   ],
   "outputs": [
    {
     "output_type": "stream",
     "name": "stdout",
     "text": [
      "[[nan  1.]\n",
      " [ 2. nan]]\n",
      "\n",
      "[1. 2.]\n",
      "[[nan  1.]\n",
      " [ 2. nan]]\n",
      "float64\n"
     ]
    }
   ],
   "metadata": {}
  },
  {
   "cell_type": "code",
   "execution_count": 73,
   "source": [
    "# complex numbers \r\n",
    "\r\n",
    "x = np.array([[1 , 2+6j] , [3+7j , 5]])\r\n",
    "print(x)\r\n",
    "print()\r\n",
    "\r\n",
    "# printing complex numbers\r\n",
    "print(x[~np.iscomplex(x)])\r\n",
    "\r\n",
    "# ommiting the complex numbers \r\n",
    "print()\r\n",
    "print(x[np.iscomplex(x)])"
   ],
   "outputs": [
    {
     "output_type": "stream",
     "name": "stdout",
     "text": [
      "[[1.+0.j 2.+6.j]\n",
      " [3.+7.j 5.+0.j]]\n",
      "\n",
      "[1.+0.j 5.+0.j]\n",
      "\n",
      "[2.+6.j 3.+7.j]\n"
     ]
    }
   ],
   "metadata": {}
  }
 ],
 "metadata": {
  "orig_nbformat": 4,
  "language_info": {
   "name": "python",
   "version": "3.8.10",
   "mimetype": "text/x-python",
   "codemirror_mode": {
    "name": "ipython",
    "version": 3
   },
   "pygments_lexer": "ipython3",
   "nbconvert_exporter": "python",
   "file_extension": ".py"
  },
  "kernelspec": {
   "name": "python3",
   "display_name": "Python 3.8.10 64-bit"
  },
  "interpreter": {
   "hash": "e404b59586357c814bc0d3940e75d6763c00a48753b225b81f7716971b8e1741"
  }
 },
 "nbformat": 4,
 "nbformat_minor": 2
}
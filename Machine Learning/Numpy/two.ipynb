{
 "cells": [
  {
   "cell_type": "code",
   "execution_count": null,
   "source": [
    "import numpy as np"
   ],
   "outputs": [],
   "metadata": {}
  },
  {
   "cell_type": "code",
   "execution_count": 1,
   "source": [
    "# numpy linspace : This function is similar to arange() function. In this function, instead of step size, \r\n",
    "# the number of evenly spaced values between the interval is specified. The usage of this function is as follows: \r\n",
    "\r\n",
    "# numpy.linspace(start, stop, num, endpoint, retstep, dtype) \r\n",
    "\r\n",
    "# start = starting point \r\n",
    "# stop = stop point \r\n",
    "# num = the number of evenly spaced samples to be generated. 50 is default \r\n",
    "# endpoint = true by default ( stop value is included) , false ( stop value os not included )\r\n",
    "# retstep = it true, returns samples and step between the consecutive numbers\r\n",
    "# dtype= data type \r\n"
   ],
   "outputs": [],
   "metadata": {}
  }
 ],
 "metadata": {
  "orig_nbformat": 4,
  "language_info": {
   "name": "python",
   "version": "3.8.10",
   "mimetype": "text/x-python",
   "codemirror_mode": {
    "name": "ipython",
    "version": 3
   },
   "pygments_lexer": "ipython3",
   "nbconvert_exporter": "python",
   "file_extension": ".py"
  },
  "kernelspec": {
   "name": "python3",
   "display_name": "Python 3.8.10 64-bit"
  },
  "interpreter": {
   "hash": "e404b59586357c814bc0d3940e75d6763c00a48753b225b81f7716971b8e1741"
  }
 },
 "nbformat": 4,
 "nbformat_minor": 2
}
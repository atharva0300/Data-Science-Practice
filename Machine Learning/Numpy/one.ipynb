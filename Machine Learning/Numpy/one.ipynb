{
 "cells": [
  {
   "cell_type": "code",
   "execution_count": 20,
   "source": [
    "import numpy as np"
   ],
   "outputs": [],
   "metadata": {}
  },
  {
   "cell_type": "code",
   "execution_count": 25,
   "source": [
    "a = np.array([[1,2,3] ,[4,5,6]])\r\n",
    "a.shape"
   ],
   "outputs": [
    {
     "output_type": "stream",
     "name": "stdout",
     "text": [
      "int32\n"
     ]
    }
   ],
   "metadata": {}
  },
  {
   "cell_type": "code",
   "execution_count": 26,
   "source": [
    "a.dtype"
   ],
   "outputs": [
    {
     "output_type": "execute_result",
     "data": {
      "text/plain": [
       "dtype('int32')"
      ]
     },
     "metadata": {},
     "execution_count": 26
    }
   ],
   "metadata": {}
  },
  {
   "cell_type": "code",
   "execution_count": 28,
   "source": [
    "a = np.arange(60)\r\n",
    "a"
   ],
   "outputs": [
    {
     "output_type": "execute_result",
     "data": {
      "text/plain": [
       "array([ 0,  1,  2,  3,  4,  5,  6,  7,  8,  9, 10, 11, 12, 13, 14, 15, 16,\n",
       "       17, 18, 19, 20, 21, 22, 23, 24, 25, 26, 27, 28, 29, 30, 31, 32, 33,\n",
       "       34, 35, 36, 37, 38, 39, 40, 41, 42, 43, 44, 45, 46, 47, 48, 49, 50,\n",
       "       51, 52, 53, 54, 55, 56, 57, 58, 59])"
      ]
     },
     "metadata": {},
     "execution_count": 28
    }
   ],
   "metadata": {}
  },
  {
   "cell_type": "code",
   "execution_count": 34,
   "source": [
    "a = a.reshape(3,4,5)\r\n",
    "a"
   ],
   "outputs": [
    {
     "output_type": "execute_result",
     "data": {
      "text/plain": [
       "array([[[ 0,  1,  2,  3,  4],\n",
       "        [ 5,  6,  7,  8,  9],\n",
       "        [10, 11, 12, 13, 14],\n",
       "        [15, 16, 17, 18, 19]],\n",
       "\n",
       "       [[20, 21, 22, 23, 24],\n",
       "        [25, 26, 27, 28, 29],\n",
       "        [30, 31, 32, 33, 34],\n",
       "        [35, 36, 37, 38, 39]],\n",
       "\n",
       "       [[40, 41, 42, 43, 44],\n",
       "        [45, 46, 47, 48, 49],\n",
       "        [50, 51, 52, 53, 54],\n",
       "        [55, 56, 57, 58, 59]]])"
      ]
     },
     "metadata": {},
     "execution_count": 34
    }
   ],
   "metadata": {}
  },
  {
   "cell_type": "code",
   "execution_count": 35,
   "source": [
    "print(a[...,3])"
   ],
   "outputs": [
    {
     "output_type": "stream",
     "name": "stdout",
     "text": [
      "[[ 3  8 13 18]\n",
      " [23 28 33 38]\n",
      " [43 48 53 58]]\n"
     ]
    }
   ],
   "metadata": {}
  },
  {
   "cell_type": "code",
   "execution_count": 36,
   "source": [
    "print(a[1,...,3])"
   ],
   "outputs": [
    {
     "output_type": "stream",
     "name": "stdout",
     "text": [
      "[23 28 33 38]\n"
     ]
    }
   ],
   "metadata": {}
  },
  {
   "cell_type": "code",
   "execution_count": 38,
   "source": [
    "print(a[2,...,3])"
   ],
   "outputs": [
    {
     "output_type": "stream",
     "name": "stdout",
     "text": [
      "[43 48 53 58]\n"
     ]
    }
   ],
   "metadata": {}
  },
  {
   "cell_type": "code",
   "execution_count": 39,
   "source": [
    "print(a[... ,2])"
   ],
   "outputs": [
    {
     "output_type": "stream",
     "name": "stdout",
     "text": [
      "[[ 2  7 12 17]\n",
      " [22 27 32 37]\n",
      " [42 47 52 57]]\n"
     ]
    }
   ],
   "metadata": {}
  },
  {
   "cell_type": "code",
   "execution_count": 41,
   "source": [
    "print(a[: , : , 2])"
   ],
   "outputs": [
    {
     "output_type": "stream",
     "name": "stdout",
     "text": [
      "[[ 2  7 12 17]\n",
      " [22 27 32 37]\n",
      " [42 47 52 57]]\n"
     ]
    }
   ],
   "metadata": {}
  },
  {
   "cell_type": "code",
   "execution_count": 42,
   "source": [
    "print(a[2,... , 2])"
   ],
   "outputs": [
    {
     "output_type": "stream",
     "name": "stdout",
     "text": [
      "[42 47 52 57]\n"
     ]
    }
   ],
   "metadata": {}
  },
  {
   "cell_type": "code",
   "execution_count": 45,
   "source": [
    "print(a[ 0, :: 2 , :: 2])"
   ],
   "outputs": [
    {
     "output_type": "stream",
     "name": "stdout",
     "text": [
      "[[ 0  2  4]\n",
      " [10 12 14]]\n"
     ]
    }
   ],
   "metadata": {}
  },
  {
   "cell_type": "code",
   "execution_count": 46,
   "source": [
    "print(a[0 , :: 1 , :: 2])"
   ],
   "outputs": [
    {
     "output_type": "stream",
     "name": "stdout",
     "text": [
      "[[ 0  2  4]\n",
      " [ 5  7  9]\n",
      " [10 12 14]\n",
      " [15 17 19]]\n"
     ]
    }
   ],
   "metadata": {}
  },
  {
   "cell_type": "code",
   "execution_count": 47,
   "source": [
    "# minimum dimensions \r\n",
    "a = np.array([1,2,3,4,5] , ndmin = 2)\r\n",
    "print(a)"
   ],
   "outputs": [
    {
     "output_type": "stream",
     "name": "stdout",
     "text": [
      "[[1 2 3 4 5]]\n"
     ]
    }
   ],
   "metadata": {}
  },
  {
   "cell_type": "code",
   "execution_count": 48,
   "source": [
    "a = np.array([1,2,3,4,5]  , ndmin = 1)\r\n",
    "print(a)"
   ],
   "outputs": [
    {
     "output_type": "stream",
     "name": "stdout",
     "text": [
      "[1 2 3 4 5]\n"
     ]
    }
   ],
   "metadata": {}
  },
  {
   "cell_type": "code",
   "execution_count": 50,
   "source": [
    "# dtype\r\n",
    "\r\n",
    "a = np.array([1,2,3,4,5] , dtype = complex )\r\n",
    "print(a)"
   ],
   "outputs": [
    {
     "output_type": "stream",
     "name": "stdout",
     "text": [
      "[1.+0.j 2.+0.j 3.+0.j 4.+0.j 5.+0.j]\n"
     ]
    }
   ],
   "metadata": {}
  },
  {
   "cell_type": "code",
   "execution_count": 54,
   "source": [
    "# using array scalar type \r\n",
    "\r\n",
    "dt = np.dtype( np.int32)\r\n",
    "print(dt)\r\n"
   ],
   "outputs": [
    {
     "output_type": "stream",
     "name": "stdout",
     "text": [
      "int32\n"
     ]
    }
   ],
   "metadata": {}
  },
  {
   "cell_type": "code",
   "execution_count": 55,
   "source": [
    "# int8  , int16, int32 , int64 can be replaced with 'i1' , 'i2' , 'i3' , 'i4' respectively \r\n",
    "dt = np.dtype('i2')\r\n",
    "print(dt)"
   ],
   "outputs": [
    {
     "output_type": "stream",
     "name": "stdout",
     "text": [
      "int16\n"
     ]
    }
   ],
   "metadata": {}
  },
  {
   "cell_type": "code",
   "execution_count": 59,
   "source": [
    "# using endian notation \r\n",
    "\r\n",
    "dt = np.dtype('>i4')\r\n",
    "print(dt)"
   ],
   "outputs": [
    {
     "output_type": "stream",
     "name": "stdout",
     "text": [
      ">i4\n"
     ]
    }
   ],
   "metadata": {}
  },
  {
   "cell_type": "code",
   "execution_count": 61,
   "source": [
    "# creating a structured data type \r\n",
    "\r\n",
    "dt  = np.dtype([('age' , np.int32)])\r\n",
    "print(dt)"
   ],
   "outputs": [
    {
     "output_type": "stream",
     "name": "stdout",
     "text": [
      "[('age', '<i4')]\n"
     ]
    }
   ],
   "metadata": {}
  },
  {
   "cell_type": "code",
   "execution_count": 63,
   "source": [
    "# aplying it to ndarrya object \r\n",
    "\r\n",
    "a = np.array([(10,) , (20, ) , (30,)] , dtype = dt)\r\n",
    "print(a)"
   ],
   "outputs": [
    {
     "output_type": "stream",
     "name": "stdout",
     "text": [
      "[(10,) (20,) (30,)]\n"
     ]
    }
   ],
   "metadata": {}
  },
  {
   "cell_type": "code",
   "execution_count": 65,
   "source": [
    "# using file name to access elements \r\n",
    "\r\n",
    "dt = np.dtype([('age' , np.int64)])\r\n",
    "a = np.array([(10,) , (20,) , (30,)] , dtype = dt)\r\n",
    "print(a['age'])"
   ],
   "outputs": [
    {
     "output_type": "stream",
     "name": "stdout",
     "text": [
      "[10 20 30]\n"
     ]
    }
   ],
   "metadata": {}
  },
  {
   "cell_type": "code",
   "execution_count": 67,
   "source": [
    "# using string , int , float data types to assigns individual file names\r\n",
    "\r\n",
    "name = np.dtype([('name' , 'S20') , ('age' , 'i1') , ('marks' , 'f4')])\r\n",
    "print(name)"
   ],
   "outputs": [
    {
     "output_type": "stream",
     "name": "stdout",
     "text": [
      "[('name', 'S20'), ('age', 'i1'), ('marks', '<f4')]\n"
     ]
    }
   ],
   "metadata": {}
  },
  {
   "cell_type": "code",
   "execution_count": 70,
   "source": [
    "# creating an array of the above data types \r\n",
    "\r\n",
    "name2 = np.array([('abc' , 12,14) , ('name' , 12 , 45.6) ], dtype = name)\r\n",
    "print(name2)"
   ],
   "outputs": [
    {
     "output_type": "stream",
     "name": "stdout",
     "text": [
      "[(b'abc', 12, 14. ) (b'name', 12, 45.6)]\n"
     ]
    }
   ],
   "metadata": {}
  },
  {
   "cell_type": "code",
   "execution_count": 75,
   "source": [
    "# accessing elements using file name \r\n",
    "print(name2['name'])\r\n",
    "print(name2['age'])\r\n",
    "print(name2['marks'])"
   ],
   "outputs": [
    {
     "output_type": "stream",
     "name": "stdout",
     "text": [
      "[b'abc' b'name']\n",
      "[12 12]\n",
      "[14.  45.6]\n"
     ]
    }
   ],
   "metadata": {}
  },
  {
   "cell_type": "code",
   "execution_count": 76,
   "source": [
    "# using ndarray.shape ( returning the tuple size )\r\n",
    "\r\n",
    "print(name2.shape)"
   ],
   "outputs": [
    {
     "output_type": "stream",
     "name": "stdout",
     "text": [
      "(2,)\n"
     ]
    }
   ],
   "metadata": {}
  },
  {
   "cell_type": "code",
   "execution_count": 83,
   "source": [
    "# resizes the array \r\n",
    "\r\n",
    "a = np.array([[1,2,3] , [4,5,6]])\r\n",
    "a.shape= (3,2)\r\n",
    "print(a)\r\n",
    "print()\r\n",
    "print(a.shape)\r\n"
   ],
   "outputs": [
    {
     "output_type": "stream",
     "name": "stdout",
     "text": [
      "[[1 2]\n",
      " [3 4]\n",
      " [5 6]]\n",
      "\n",
      "(3, 2)\n"
     ]
    }
   ],
   "metadata": {}
  },
  {
   "cell_type": "code",
   "execution_count": 97,
   "source": [
    "# reshape to resize the array \r\n",
    "\r\n",
    "a = np.array([[1,2,3] , [4,5,6]])\r\n",
    "b = a.reshape(3,2)\r\n",
    "print(b)"
   ],
   "outputs": [
    {
     "output_type": "stream",
     "name": "stdout",
     "text": [
      "[[1 2]\n",
      " [3 4]\n",
      " [5 6]]\n"
     ]
    }
   ],
   "metadata": {}
  },
  {
   "cell_type": "code",
   "execution_count": 99,
   "source": [
    "# array dimensions \r\n",
    "\r\n",
    "a = np.arange(24)\r\n",
    "print(a)\r\n",
    "print(a.ndim)"
   ],
   "outputs": [
    {
     "output_type": "stream",
     "name": "stdout",
     "text": [
      "[ 0  1  2  3  4  5  6  7  8  9 10 11 12 13 14 15 16 17 18 19 20 21 22 23]\n",
      "1\n"
     ]
    }
   ],
   "metadata": {}
  },
  {
   "cell_type": "code",
   "execution_count": 101,
   "source": [
    "a = a.reshape(3,2 , 4)\r\n",
    "print(a)"
   ],
   "outputs": [
    {
     "output_type": "stream",
     "name": "stdout",
     "text": [
      "[[[ 0  1  2  3]\n",
      "  [ 4  5  6  7]]\n",
      "\n",
      " [[ 8  9 10 11]\n",
      "  [12 13 14 15]]\n",
      "\n",
      " [[16 17 18 19]\n",
      "  [20 21 22 23]]]\n"
     ]
    }
   ],
   "metadata": {}
  },
  {
   "cell_type": "code",
   "execution_count": 108,
   "source": [
    "temp =name2.reshape(2,1)\r\n",
    "print(temp)"
   ],
   "outputs": [
    {
     "output_type": "stream",
     "name": "stdout",
     "text": [
      "[[(b'abc', 12, 14. )]\n",
      " [(b'name', 12, 45.6)]]\n"
     ]
    }
   ],
   "metadata": {}
  },
  {
   "cell_type": "code",
   "execution_count": 114,
   "source": [
    "# itemsize : length of the each element of the array \r\n",
    "# itemsize of int8 is  (1 byte )\r\n",
    "# itemsize of int32 is ( 4 byte)\r\n",
    "# itemsize of int64 is ( 8 byte )\r\n",
    "# itemsize of float32 is ( 4 byte )\r\n",
    "\r\n",
    "print(a.itemsize)\r\n",
    "print(a.dtype)\r\n",
    "print(np.array([(1,2,3)] , dtype = 'int64').itemsize)\r\n",
    "print(np.array([(1,2,3) , (4,5,6)] , dtype = 'float32').itemsize)"
   ],
   "outputs": [
    {
     "output_type": "stream",
     "name": "stdout",
     "text": [
      "4\n",
      "int32\n",
      "8\n",
      "4\n"
     ]
    }
   ],
   "metadata": {}
  },
  {
   "cell_type": "code",
   "execution_count": 115,
   "source": [
    "# flags \r\n",
    "\r\n",
    "print(a.flags)"
   ],
   "outputs": [
    {
     "output_type": "stream",
     "name": "stdout",
     "text": [
      "  C_CONTIGUOUS : True\n",
      "  F_CONTIGUOUS : False\n",
      "  OWNDATA : False\n",
      "  WRITEABLE : True\n",
      "  ALIGNED : True\n",
      "  WRITEBACKIFCOPY : False\n",
      "  UPDATEIFCOPY : False\n",
      "\n"
     ]
    }
   ],
   "metadata": {}
  },
  {
   "cell_type": "code",
   "execution_count": 118,
   "source": [
    "# numpy.empty \r\n",
    "# numpy.empty(shape, dtype=float, order='C') \r\n",
    "\r\n",
    "b = np.empty([3,2] , dtype = 'float32' , order = 'C')\r\n",
    "print(b.dtype)\r\n",
    "print(b.shape)"
   ],
   "outputs": [
    {
     "output_type": "stream",
     "name": "stdout",
     "text": [
      "float32\n",
      "(3, 2)\n"
     ]
    }
   ],
   "metadata": {}
  },
  {
   "cell_type": "code",
   "execution_count": 119,
   "source": [
    "print(b)"
   ],
   "outputs": [
    {
     "output_type": "stream",
     "name": "stdout",
     "text": [
      "[[1.e-45 3.e-45]\n",
      " [4.e-45 6.e-45]\n",
      " [7.e-45 8.e-45]]\n"
     ]
    }
   ],
   "metadata": {}
  },
  {
   "cell_type": "code",
   "execution_count": 120,
   "source": [
    "b = np.empty([3,2] , dtype = 'int32')\r\n",
    "print(b)"
   ],
   "outputs": [
    {
     "output_type": "stream",
     "name": "stdout",
     "text": [
      "[[1 2]\n",
      " [3 4]\n",
      " [5 6]]\n"
     ]
    }
   ],
   "metadata": {}
  },
  {
   "cell_type": "code",
   "execution_count": 121,
   "source": [
    "# specifying an array filled with zeros \r\n",
    "# numpy.zeros(shape, dtype=float, order='C') \r\n",
    "\r\n",
    "c = np.zeros([2,3] , dtype = 'int32' , order = 'F')\r\n",
    "print(c)"
   ],
   "outputs": [
    {
     "output_type": "stream",
     "name": "stdout",
     "text": [
      "[[0 0 0]\n",
      " [0 0 0]]\n"
     ]
    }
   ],
   "metadata": {}
  },
  {
   "cell_type": "code",
   "execution_count": 128,
   "source": [
    "c = np.zeros([2,3] , dtype = 'int32' , order = 'C')\r\n",
    "print(c)\r\n",
    "print(c.ndim)"
   ],
   "outputs": [
    {
     "output_type": "stream",
     "name": "stdout",
     "text": [
      "[[0 0 0]\n",
      " [0 0 0]]\n",
      "2\n"
     ]
    }
   ],
   "metadata": {}
  },
  {
   "cell_type": "code",
   "execution_count": 127,
   "source": [
    "x = np.zeros((2,2) , dtype = [('x' , 'i4') , ('y' , 'i2')] , order= 'C')\r\n",
    "print(x)\r\n",
    "print(x.shape)\r\n",
    "print(x.ndim)"
   ],
   "outputs": [
    {
     "output_type": "stream",
     "name": "stdout",
     "text": [
      "[[(0, 0) (0, 0)]\n",
      " [(0, 0) (0, 0)]]\n",
      "(2, 2)\n",
      "2\n"
     ]
    }
   ],
   "metadata": {}
  },
  {
   "cell_type": "code",
   "execution_count": 129,
   "source": [
    "# numpy ones  ( specifying all the array elements to one )\r\n",
    "# numpy.ones(shape, dtype=None, order='C') \r\n",
    "\r\n",
    "a = np.ones((2,3) , dtype = np.float32 , order = 'C') \r\n",
    "print(a)"
   ],
   "outputs": [
    {
     "output_type": "stream",
     "name": "stdout",
     "text": [
      "[[1. 1. 1.]\n",
      " [1. 1. 1.]]\n"
     ]
    }
   ],
   "metadata": {}
  },
  {
   "cell_type": "code",
   "execution_count": 130,
   "source": [
    "print(np.ones([3,4] , dtype = np.int32 , order = 'F'))"
   ],
   "outputs": [
    {
     "output_type": "stream",
     "name": "stdout",
     "text": [
      "[[1 1 1 1]\n",
      " [1 1 1 1]\n",
      " [1 1 1 1]]\n"
     ]
    }
   ],
   "metadata": {}
  },
  {
   "cell_type": "code",
   "execution_count": 132,
   "source": [
    "# nupmy asarray \r\n",
    "# numpy.asarray(a, dtype=None, order=None) \r\n",
    "# a = input data from lists ,tuples etc \r\n",
    "# same as nupmy array but with fewer parameters \r\n",
    "\r\n",
    "x = [1,2,3]\r\n",
    "print(np.asarray(x))\r\n",
    "print(np.asarray(x).shape)"
   ],
   "outputs": [
    {
     "output_type": "stream",
     "name": "stdout",
     "text": [
      "[1 2 3]\n",
      "(3,)\n"
     ]
    }
   ],
   "metadata": {}
  },
  {
   "cell_type": "code",
   "execution_count": 135,
   "source": [
    "a = np.asarray(x ,dtype = np.float32)\r\n",
    "print(a)\r\n",
    "a =a.reshape(3,1)\r\n",
    "print()\r\n",
    "print(a)\r\n"
   ],
   "outputs": [
    {
     "output_type": "stream",
     "name": "stdout",
     "text": [
      "[1. 2. 3.]\n",
      "\n",
      "[[1.]\n",
      " [2.]\n",
      " [3.]]\n"
     ]
    }
   ],
   "metadata": {}
  },
  {
   "cell_type": "code",
   "execution_count": 138,
   "source": [
    "x = [(1,2,3) , (4,5,6)]\r\n",
    "print(np.asarray(x , dtype = np.int32))\r\n",
    "b = np.array(x , dtype= np.int32)\r\n",
    "b = b.reshape(3,2)\r\n",
    "print()\r\n",
    "print(b)"
   ],
   "outputs": [
    {
     "output_type": "stream",
     "name": "stdout",
     "text": [
      "[[1 2 3]\n",
      " [4 5 6]]\n",
      "\n",
      "[[1 2]\n",
      " [3 4]\n",
      " [5 6]]\n"
     ]
    }
   ],
   "metadata": {}
  },
  {
   "cell_type": "code",
   "execution_count": 158,
   "source": [
    "# numpy buffer, interprets buffer as a 1-d array \r\n",
    "# numpy.frombuffer(buffer, dtype=float, count=-1, offset=0) \r\n",
    "\r\n",
    "# buffer = an object that exposes buffer interface \r\n",
    "# count = The number of items to read, default -1 means all data \r\n",
    "# offset = starting position to read from \r\n",
    "\r\n",
    "s = 'Atharva Pingale'\r\n",
    "d = np.frombuffer(s.encode(), dtype = 'S1')\r\n",
    "print(d)"
   ],
   "outputs": [
    {
     "output_type": "stream",
     "name": "stdout",
     "text": [
      "[b'A' b't' b'h' b'a' b'r' b'v' b'a' b' ' b'P' b'i' b'n' b'g' b'a' b'l'\n",
      " b'e']\n"
     ]
    }
   ],
   "metadata": {}
  },
  {
   "cell_type": "code",
   "execution_count": 162,
   "source": [
    "# numpy from iter, creates an ndarray around an iterable object \r\n",
    "# numpy.fromiter(iterable, dtype, count=-1) \r\n",
    "\r\n",
    "\r\n",
    "# iterable = any iterable object \r\n",
    "# dtype = data type \r\n",
    "# count = number of items to be read from iterator , -1 if remaining to read all items \r\n",
    "\r\n",
    "list = range(10)\r\n",
    "print(list)\r\n",
    "it = iter(list)\r\n",
    "print(it)\r\n",
    "c = np.fromiter(it , dtype= np.int32)\r\n",
    "print(c)"
   ],
   "outputs": [
    {
     "output_type": "stream",
     "name": "stdout",
     "text": [
      "range(0, 10)\n",
      "<range_iterator object at 0x000000F7B67333D0>\n",
      "[0 1 2 3 4 5 6 7 8 9]\n"
     ]
    }
   ],
   "metadata": {}
  },
  {
   "cell_type": "code",
   "execution_count": 167,
   "source": [
    "# numpy arange \r\n",
    "# numpy.arange(start , stop , step , dtype )\r\n",
    "\r\n",
    "# step = spacing by defalt is 1 \r\n",
    "\r\n",
    "x = np.arange(5)\r\n",
    "print(x)\r\n",
    "print(np.arange(6 , dtype = np.float32))\r\n",
    "print(np.arange(10 , step = 3 , dtype = np.float32))"
   ],
   "outputs": [
    {
     "output_type": "stream",
     "name": "stdout",
     "text": [
      "[0 1 2 3 4]\n",
      "[0. 1. 2. 3. 4. 5.]\n",
      "[0. 3. 6. 9.]\n"
     ]
    }
   ],
   "metadata": {}
  }
 ],
 "metadata": {
  "orig_nbformat": 4,
  "language_info": {
   "name": "python",
   "version": "3.8.10",
   "mimetype": "text/x-python",
   "codemirror_mode": {
    "name": "ipython",
    "version": 3
   },
   "pygments_lexer": "ipython3",
   "nbconvert_exporter": "python",
   "file_extension": ".py"
  },
  "kernelspec": {
   "name": "python3",
   "display_name": "Python 3.8.10 64-bit"
  },
  "interpreter": {
   "hash": "e404b59586357c814bc0d3940e75d6763c00a48753b225b81f7716971b8e1741"
  }
 },
 "nbformat": 4,
 "nbformat_minor": 2
}
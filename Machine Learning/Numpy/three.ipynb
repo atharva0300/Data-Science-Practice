{
 "cells": [
  {
   "cell_type": "code",
   "execution_count": 1,
   "source": [
    "import numpy as np\r\n"
   ],
   "outputs": [],
   "metadata": {}
  },
  {
   "cell_type": "code",
   "execution_count": 2,
   "source": [
    "# numpy broadcasting \r\n",
    "\r\n",
    "x = np.array([1,2,3,4,5])\r\n",
    "print(x)\r\n",
    "y =np.array([10,20,30,40,50])\r\n",
    "print(y)\r\n",
    "z = x*y\r\n",
    "print(z)"
   ],
   "outputs": [
    {
     "output_type": "stream",
     "name": "stdout",
     "text": [
      "[1 2 3 4 5]\n",
      "[10 20 30 40 50]\n",
      "[ 10  40  90 160 250]\n"
     ]
    }
   ],
   "metadata": {}
  },
  {
   "cell_type": "code",
   "execution_count": 6,
   "source": [
    "# addition of numpy arrays \r\n",
    "\r\n",
    "x = np.array([[0,1,2],\r\n",
    "               [3,4,5],\r\n",
    "               [6,7,8],\r\n",
    "               [9,10,11]])\r\n",
    "y = np.array([1,2,3])\r\n",
    "z = x + y\r\n",
    "print(\"Addition : \\n\")\r\n",
    "print(z)"
   ],
   "outputs": [
    {
     "output_type": "stream",
     "name": "stdout",
     "text": [
      "Addition : \n",
      "\n",
      "[[ 1  3  5]\n",
      " [ 4  6  8]\n",
      " [ 7  9 11]\n",
      " [10 12 14]]\n"
     ]
    }
   ],
   "metadata": {}
  },
  {
   "cell_type": "code",
   "execution_count": 12,
   "source": [
    "# iterating over an array using nditer\r\n",
    "\r\n",
    "a = np.arange(0,60,5)\r\n",
    "a = a.reshape(3,4)\r\n",
    "print(a)\r\n",
    "print()\r\n",
    "# iterating over the array\r\n",
    "for x in np.nditer(a):\r\n",
    "    print(x , end=\" \")"
   ],
   "outputs": [
    {
     "output_type": "stream",
     "name": "stdout",
     "text": [
      "[[ 0  5 10 15]\n",
      " [20 25 30 35]\n",
      " [40 45 50 55]]\n",
      "\n",
      "0 5 10 15 20 25 30 35 40 45 50 55 "
     ]
    }
   ],
   "metadata": {}
  },
  {
   "cell_type": "code",
   "execution_count": 14,
   "source": [
    "a = np.arange(0,60,5)\r\n",
    "a = a.reshape(3,4)\r\n",
    "print(a)\r\n",
    "print(\"\\nTranspose of the array : \\n\")\r\n",
    "b = a.T\r\n",
    "print(b)"
   ],
   "outputs": [
    {
     "output_type": "stream",
     "name": "stdout",
     "text": [
      "[[ 0  5 10 15]\n",
      " [20 25 30 35]\n",
      " [40 45 50 55]]\n",
      "\n",
      "Transpose of the array : \n",
      "\n",
      "[[ 0 20 40]\n",
      " [ 5 25 45]\n",
      " [10 30 50]\n",
      " [15 35 55]]\n"
     ]
    }
   ],
   "metadata": {}
  },
  {
   "cell_type": "code",
   "execution_count": 15,
   "source": [
    "c = b.copy(order= 'C')\r\n",
    "print(\"In C style order : \\n\")\r\n",
    "print(c)\r\n"
   ],
   "outputs": [
    {
     "output_type": "stream",
     "name": "stdout",
     "text": [
      "In C style order : \n",
      "\n",
      "[[ 0 20 40]\n",
      " [ 5 25 45]\n",
      " [10 30 50]\n",
      " [15 35 55]]\n"
     ]
    }
   ],
   "metadata": {}
  },
  {
   "cell_type": "code",
   "execution_count": 16,
   "source": [
    "d = b.copy(order  ='C')\r\n",
    "print(\"In F style order : \\n\")\r\n",
    "print(d)"
   ],
   "outputs": [
    {
     "output_type": "stream",
     "name": "stdout",
     "text": [
      "In F style order : \n",
      "\n",
      "[[ 0 20 40]\n",
      " [ 5 25 45]\n",
      " [10 30 50]\n",
      " [15 35 55]]\n"
     ]
    }
   ],
   "metadata": {}
  },
  {
   "cell_type": "code",
   "execution_count": null,
   "source": [
    "# NOTE - iterating through a F style array is faster than iterating through a C style array "
   ],
   "outputs": [],
   "metadata": {}
  },
  {
   "cell_type": "code",
   "execution_count": 18,
   "source": [
    "# modifying all the array values \r\n",
    "\r\n",
    "a =np.arange(0,60,5)\r\n",
    "print(a)\r\n",
    "for x in np.nditer(a , op_flags =['readwrite']): \r\n",
    "    x[...] = x/2\r\n",
    "\r\n",
    "print()\r\n",
    "print(a)"
   ],
   "outputs": [
    {
     "output_type": "stream",
     "name": "stdout",
     "text": [
      "[ 0  5 10 15 20 25 30 35 40 45 50 55]\n",
      "\n",
      "[ 0  2  5  7 10 12 15 17 20 22 25 27]\n"
     ]
    }
   ],
   "metadata": {}
  },
  {
   "cell_type": "code",
   "execution_count": 21,
   "source": [
    "a = np.arange(0,60,5)\r\n",
    "a= a.reshape(3,4)\r\n",
    "\r\n",
    "# using flags\r\n",
    "for x in np.nditer(a , flags=['external_loop'] , order = 'F'): \r\n",
    "    print(x)\r\n",
    "\r\n",
    "# external_loop = instead of accessing the element as 0 dimension array, accesses the array as one dimensional array \r\n",
    "# c_index = c_order index can be tracked \r\n",
    "# f_index = f_order index can be tracked \r\n",
    "# multi-index = types of index with one per iteration can be tracked "
   ],
   "outputs": [
    {
     "output_type": "stream",
     "name": "stdout",
     "text": [
      "[ 0 20 40]\n",
      "[ 5 25 45]\n",
      "[10 30 50]\n",
      "[15 35 55]\n"
     ]
    }
   ],
   "metadata": {}
  },
  {
   "cell_type": "code",
   "execution_count": 39,
   "source": [
    "# combining a list of arrays in nditer \r\n",
    "\r\n",
    "a = np.arange(0,60,5)\r\n",
    "a =a.reshape(3,4)\r\n",
    "print(a)\r\n",
    "b = np.array([1,2,3,4])\r\n",
    "# The array should exactly be of the same size as the number of columns in the aboce ( main array ).\r\n",
    "print()\r\n",
    "for x,y in np.nditer([a,b]): \r\n",
    "    print(\"%d:%d\"  %(x,y) , end=\" \")"
   ],
   "outputs": [
    {
     "output_type": "stream",
     "name": "stdout",
     "text": [
      "[[ 0  5 10 15]\n",
      " [20 25 30 35]\n",
      " [40 45 50 55]]\n",
      "\n",
      "0:1 5:2 10:3 15:4 20:1 25:2 30:3 35:4 40:1 45:2 50:3 55:4 "
     ]
    }
   ],
   "metadata": {}
  },
  {
   "cell_type": "code",
   "execution_count": 40,
   "source": [
    "# numpy reshape \r\n",
    "# numpy.reshape(arr, newshape, order') "
   ],
   "outputs": [],
   "metadata": {}
  },
  {
   "cell_type": "code",
   "execution_count": 49,
   "source": [
    "# numpy array flat \r\n",
    "# flattens the array to 1 dimensional \r\n",
    "\r\n",
    "a = np.arange(0,60,5).reshape(3,4)\r\n",
    "print(a)\r\n",
    "print(a.flat[5])\r\n",
    "# flattens the array to 1D array and extracts 5th element from it"
   ],
   "outputs": [
    {
     "output_type": "stream",
     "name": "stdout",
     "text": [
      "[[ 0  5 10 15]\n",
      " [20 25 30 35]\n",
      " [40 45 50 55]]\n",
      "25\n"
     ]
    }
   ],
   "metadata": {}
  },
  {
   "cell_type": "code",
   "execution_count": 56,
   "source": [
    "# numpy array flatten\r\n",
    "# This function returns a copy of an array collapsed into one dimension. The function takes the following parameters. \r\n",
    "# ndarray.flatten(order) \r\n",
    "\r\n",
    "a = np.arange(0,60,5).reshape(3,4)\r\n",
    "print(a)\r\n",
    "print(a.flatten(order = 'C'))\r\n",
    "# flattens teh array to C style \r\n",
    "\r\n",
    "print(a.flatten(order = 'F'))\r\n",
    "# flattens the array to F style "
   ],
   "outputs": [
    {
     "output_type": "stream",
     "name": "stdout",
     "text": [
      "[[ 0  5 10 15]\n",
      " [20 25 30 35]\n",
      " [40 45 50 55]]\n",
      "[ 0  5 10 15 20 25 30 35 40 45 50 55]\n",
      "[ 0 20 40  5 25 45 10 30 50 15 35 55]\n"
     ]
    }
   ],
   "metadata": {}
  },
  {
   "cell_type": "code",
   "execution_count": 59,
   "source": [
    "# numpy ravel \r\n",
    "# returns a flat one dimensional array \r\n",
    "a = np.arange(0,60,5).reshape(3,4)\r\n",
    "print(a)\r\n",
    "\r\n",
    "a = np.ravel(a , order = 'C')\r\n",
    "print(a)\r\n",
    "# completely flattens the array to one dimensional array "
   ],
   "outputs": [
    {
     "output_type": "stream",
     "name": "stdout",
     "text": [
      "[[ 0  5 10 15]\n",
      " [20 25 30 35]\n",
      " [40 45 50 55]]\n",
      "[ 0  5 10 15 20 25 30 35 40 45 50 55]\n"
     ]
    }
   ],
   "metadata": {}
  },
  {
   "cell_type": "code",
   "execution_count": 62,
   "source": [
    "# numpy transpose \r\n",
    "\r\n",
    "a = np.arange(0,60,5).reshape(3,4)\r\n",
    "print(a)\r\n",
    "# using transpose \r\n",
    "\r\n",
    "a = np.transpose(a)\r\n",
    "# by default the axes parameter reverses the axes \r\n",
    "print()\r\n",
    "print(a)\r\n"
   ],
   "outputs": [
    {
     "output_type": "stream",
     "name": "stdout",
     "text": [
      "[[ 0  5 10 15]\n",
      " [20 25 30 35]\n",
      " [40 45 50 55]]\n",
      "\n",
      "[[ 0 20 40]\n",
      " [ 5 25 45]\n",
      " [10 30 50]\n",
      " [15 35 55]]\n"
     ]
    }
   ],
   "metadata": {}
  },
  {
   "cell_type": "code",
   "execution_count": 64,
   "source": [
    "# numpy T \r\n",
    "# used for transpose \r\n",
    "\r\n",
    "a = np.arange(0,60,5).reshape(3,4)\r\n",
    "print(a)\r\n",
    "print()\r\n",
    "print(a.T)"
   ],
   "outputs": [
    {
     "output_type": "stream",
     "name": "stdout",
     "text": [
      "[[ 0  5 10 15]\n",
      " [20 25 30 35]\n",
      " [40 45 50 55]]\n",
      "\n",
      "[[ 0 20 40]\n",
      " [ 5 25 45]\n",
      " [10 30 50]\n",
      " [15 35 55]]\n"
     ]
    }
   ],
   "metadata": {}
  },
  {
   "cell_type": "code",
   "execution_count": 68,
   "source": [
    "# numpy swap axes \r\n",
    "# This function interchanges the two axes of an array. \r\n",
    "# For NumPy versions after 1.10, a view of the swapped array is returned. \r\n",
    "# The function takes the following parameters. \r\n",
    "# numpy.swapaxes(arr, axis1, axis2) \r\n",
    "\r\n",
    "a = np.arange(0,40,5).reshape(2,2,2)\r\n",
    "print(a)\r\n",
    "print(\"\\nAfter swapping : \\n\")\r\n",
    "a = np.swapaxes(a , 2,0)\r\n",
    "print(a)"
   ],
   "outputs": [
    {
     "output_type": "stream",
     "name": "stdout",
     "text": [
      "[[[ 0  5]\n",
      "  [10 15]]\n",
      "\n",
      " [[20 25]\n",
      "  [30 35]]]\n",
      "After swapping : \n",
      "[[[ 0 20]\n",
      "  [10 30]]\n",
      "\n",
      " [[ 5 25]\n",
      "  [15 35]]]\n"
     ]
    }
   ],
   "metadata": {}
  }
 ],
 "metadata": {
  "orig_nbformat": 4,
  "language_info": {
   "name": "python",
   "version": "3.8.10",
   "mimetype": "text/x-python",
   "codemirror_mode": {
    "name": "ipython",
    "version": 3
   },
   "pygments_lexer": "ipython3",
   "nbconvert_exporter": "python",
   "file_extension": ".py"
  },
  "kernelspec": {
   "name": "python3",
   "display_name": "Python 3.8.10 64-bit"
  },
  "interpreter": {
   "hash": "e404b59586357c814bc0d3940e75d6763c00a48753b225b81f7716971b8e1741"
  }
 },
 "nbformat": 4,
 "nbformat_minor": 2
}
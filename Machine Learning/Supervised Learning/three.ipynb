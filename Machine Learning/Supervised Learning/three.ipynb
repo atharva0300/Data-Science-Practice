{
 "cells": [
  {
   "cell_type": "code",
   "execution_count": 1,
   "source": [
    "import numpy as np \r\n",
    "import matplotlib.pyplot as plt \r\n",
    "import pandas as pd \r\n",
    "import mglearn "
   ],
   "outputs": [],
   "metadata": {}
  },
  {
   "cell_type": "code",
   "execution_count": 3,
   "source": [
    "from sklearn.neighbors import KNeighborsRegressor\r\n",
    "\r\n",
    "flg, axes = plt.subplots(1, 3 , figsize = (15 , 4))\r\n",
    "\r\n",
    "# create 1000 data points between -3 and 3 \r\n",
    "line = np.linspace(-3 , 3 , 1000).reshape(-1 ,1)\r\n",
    "\r\n",
    "for n_neighbors,ax in zip([1,2,3] , axes): \r\n",
    "    # make predictions using 1 , 3 and 9 predictions \r\n",
    "    reg = KNeighborsRegressor(n_neighbors = n_neighbors)\r\n",
    "    reg.fit(X_train , y_train)\r\n",
    "    ax.plot(line , reg.predict(line))\r\n",
    "    ax.plot(X_train , y_train , '^' , c = mglearn.cm2(0) , markersize = 8)\r\n",
    "    ax.plot(X_test , y_test, 'v' , c = mglearn.cm2(1) , markersize = 8)\r\n",
    "    ax.set_title(\"{} neighbor(s)\\n train score: {:.2f} test score: {:.2f}\".format(n_neighbors, reg.score(X_train, y_train),reg.score(X_test, y_test)))    \r\n",
    "    ax.set_xlabel(\"Feature\")    \r\n",
    "    ax.set_ylabel(\"Target\") \r\n",
    "    axes[0].legend([\"Model predictions\", \"Training data/target\",\"Test data/target\"], loc=\"best\")"
   ],
   "outputs": [
    {
     "output_type": "error",
     "ename": "NameError",
     "evalue": "name 'X_train' is not defined",
     "traceback": [
      "\u001b[1;31m---------------------------------------------------------------------------\u001b[0m",
      "\u001b[1;31mNameError\u001b[0m                                 Traceback (most recent call last)",
      "\u001b[1;32m~\\AppData\\Local\\Temp/ipykernel_3272/3277877045.py\u001b[0m in \u001b[0;36m<module>\u001b[1;34m\u001b[0m\n\u001b[0;32m      9\u001b[0m     \u001b[1;31m# make predictions using 1 , 3 and 9 predictions\u001b[0m\u001b[1;33m\u001b[0m\u001b[1;33m\u001b[0m\u001b[1;33m\u001b[0m\u001b[0m\n\u001b[0;32m     10\u001b[0m     \u001b[0mreg\u001b[0m \u001b[1;33m=\u001b[0m \u001b[0mKNeighborsRegressor\u001b[0m\u001b[1;33m(\u001b[0m\u001b[0mn_neighbors\u001b[0m \u001b[1;33m=\u001b[0m \u001b[0mn_neighbors\u001b[0m\u001b[1;33m)\u001b[0m\u001b[1;33m\u001b[0m\u001b[1;33m\u001b[0m\u001b[0m\n\u001b[1;32m---> 11\u001b[1;33m     \u001b[0mreg\u001b[0m\u001b[1;33m.\u001b[0m\u001b[0mfit\u001b[0m\u001b[1;33m(\u001b[0m\u001b[0mX_train\u001b[0m \u001b[1;33m,\u001b[0m \u001b[0my_train\u001b[0m\u001b[1;33m)\u001b[0m\u001b[1;33m\u001b[0m\u001b[1;33m\u001b[0m\u001b[0m\n\u001b[0m\u001b[0;32m     12\u001b[0m     \u001b[0max\u001b[0m\u001b[1;33m.\u001b[0m\u001b[0mplot\u001b[0m\u001b[1;33m(\u001b[0m\u001b[0mline\u001b[0m \u001b[1;33m,\u001b[0m \u001b[0mreg\u001b[0m\u001b[1;33m.\u001b[0m\u001b[0mpredict\u001b[0m\u001b[1;33m(\u001b[0m\u001b[0mline\u001b[0m\u001b[1;33m)\u001b[0m\u001b[1;33m)\u001b[0m\u001b[1;33m\u001b[0m\u001b[1;33m\u001b[0m\u001b[0m\n\u001b[0;32m     13\u001b[0m     \u001b[0max\u001b[0m\u001b[1;33m.\u001b[0m\u001b[0mplot\u001b[0m\u001b[1;33m(\u001b[0m\u001b[0mX_train\u001b[0m \u001b[1;33m,\u001b[0m \u001b[0my_train\u001b[0m \u001b[1;33m,\u001b[0m \u001b[1;34m'^'\u001b[0m \u001b[1;33m,\u001b[0m \u001b[0mc\u001b[0m \u001b[1;33m=\u001b[0m \u001b[0mmglearn\u001b[0m\u001b[1;33m.\u001b[0m\u001b[0mcm2\u001b[0m\u001b[1;33m(\u001b[0m\u001b[1;36m0\u001b[0m\u001b[1;33m)\u001b[0m \u001b[1;33m,\u001b[0m \u001b[0mmarkersize\u001b[0m \u001b[1;33m=\u001b[0m \u001b[1;36m8\u001b[0m\u001b[1;33m)\u001b[0m\u001b[1;33m\u001b[0m\u001b[1;33m\u001b[0m\u001b[0m\n",
      "\u001b[1;31mNameError\u001b[0m: name 'X_train' is not defined"
     ]
    },
    {
     "output_type": "display_data",
     "data": {
      "text/plain": [
       "<Figure size 1080x288 with 3 Axes>"
      ],
      "image/png": "[encoded data removed]"
     },
     "metadata": {
      "needs_background": "light"
     }
    }
   ],
   "metadata": {}
  },
  {
   "cell_type": "code",
   "execution_count": 4,
   "source": [
    "mglearn.plots.plot_linear_regression_wave()"
   ],
   "outputs": [
    {
     "output_type": "stream",
     "name": "stdout",
     "text": [
      "w[0]: 0.393906  b: -0.031804\n"
     ]
    },
    {
     "output_type": "display_data",
     "data": {
      "text/plain": [
       "<Figure size 576x576 with 1 Axes>"
      ],
      "image/png": "[encoded data removed]"
     },
     "metadata": {
      "needs_background": "light"
     }
    }
   ],
   "metadata": {}
  },
  {
   "cell_type": "code",
   "execution_count": 12,
   "source": [
    "from sklearn.linear_model import LinearRegression\r\n",
    "from sklearn.model_selection import train_test_split\r\n",
    "X ,y = mglearn.datasets.make_wave(n_samples = 60)\r\n",
    "X_train , X_test , y_train , y_test = train_test_split(X, y , random_state = 42)\r\n",
    "lr = LinearRegression().fit(X_train , y_train)\r\n",
    "print(\"lr.coeff : \" + format(lr.coef_))\r\n",
    "print(\"lr.intercept : \" + format(lr.intercept_))"
   ],
   "outputs": [
    {
     "output_type": "stream",
     "name": "stdout",
     "text": [
      "lr.coeff : [0.39390555]\n",
      "lr.intercept : -0.031804343026759746\n"
     ]
    }
   ],
   "metadata": {}
  },
  {
   "cell_type": "code",
   "execution_count": 13,
   "source": [
    "print(\"training set score : \" + format(lr.score(X_train , y_train)))\r\n",
    "print(\"testing set score : \" + format(lr.score(X_test , y_test)))"
   ],
   "outputs": [
    {
     "output_type": "stream",
     "name": "stdout",
     "text": [
      "training set score : 0.6700890315075756\n",
      "testing set score : 0.65933685968637\n"
     ]
    }
   ],
   "metadata": {}
  },
  {
   "cell_type": "code",
   "execution_count": 19,
   "source": [
    "X , y = mglearn.datasets.load_extended_boston()\r\n",
    "X_train , X_test , y_train , y_test = train_test_split(X , y , random_state = 0)\r\n",
    "lr = LinearRegression().fit(X_train , y_train)\r\n",
    "print(\"Training set score : \" + format(lr.score(X_train , y_train)))\r\n",
    "print(\"Testing set score : \" + format(lr.score(X_test , y_test)))"
   ],
   "outputs": [
    {
     "output_type": "stream",
     "name": "stdout",
     "text": [
      "Training set score : 0.9520519609032727\n",
      "Testing set score : 0.6074721959665943\n"
     ]
    }
   ],
   "metadata": {}
  },
  {
   "cell_type": "code",
   "execution_count": 20,
   "source": [
    "from sklearn.linear_model import Ridge\r\n",
    "\r\n",
    "ridge = Ridge().fit(X_train  ,y_train)\r\n",
    "print(\"Training set score : \" + format(ridge.score(X_train , y_train)))\r\n",
    "print(\"Testing set score : \" + format(ridge.score(X_test , y_test)))"
   ],
   "outputs": [
    {
     "output_type": "stream",
     "name": "stdout",
     "text": [
      "Training set score : 0.8857966585170941\n",
      "Testing set score : 0.7527683481744749\n"
     ]
    }
   ],
   "metadata": {}
  },
  {
   "cell_type": "code",
   "execution_count": 21,
   "source": [
    "ridge10 = Ridge(alpha = 10).fit(X_train  ,y_train)\r\n",
    "print(\"Training set score : \" + format(ridge10.score(X_train , y_train)))\r\n",
    "print(\"Testing set score : \" + format(ridge10.score(X_test , y_test)))"
   ],
   "outputs": [
    {
     "output_type": "stream",
     "name": "stdout",
     "text": [
      "Training set score : 0.7882787115369614\n",
      "Testing set score : 0.6359411489177311\n"
     ]
    }
   ],
   "metadata": {}
  },
  {
   "cell_type": "code",
   "execution_count": 22,
   "source": [
    "ridge01 = Ridge(alpha=0.1).fit(X_train, y_train) \r\n",
    "print(\"Training set score: {:.2f}\".format(ridge01.score(X_train, y_train))) \r\n",
    "print(\"Test set score: {:.2f}\".format(ridge01.score(X_test, y_test)))\r\n"
   ],
   "outputs": [
    {
     "output_type": "stream",
     "name": "stdout",
     "text": [
      "Training set score: 0.93\n",
      "Test set score: 0.77\n"
     ]
    }
   ],
   "metadata": {}
  },
  {
   "cell_type": "code",
   "execution_count": 26,
   "source": [
    "from sklearn.linear_model import Lasso\r\n",
    "\r\n",
    "lasso = Lasso().fit(X_train , y_train)\r\n",
    "print(\"Training set score : \" + format(lasso.score(X_train , y_train)))\r\n",
    "print(\"Test set score : \" + format(lasso.score(X_test , y_test)))\r\n",
    "print(\"Number of features used : \" + format(np.sum(lasso.coef_!=0)))"
   ],
   "outputs": [
    {
     "output_type": "stream",
     "name": "stdout",
     "text": [
      "Training set score : 0.29323768991114607\n",
      "Test set score : 0.20937503255272294\n",
      "Number of features used : 4\n"
     ]
    }
   ],
   "metadata": {}
  },
  {
   "cell_type": "code",
   "execution_count": 27,
   "source": [
    "lasso001 = Lasso(alpha = 0.01 , max_iter=100000).fit(X_train , y_train)\r\n",
    "print(\"Training set score : \" + format(lasso001.score(X_train , y_train)))\r\n",
    "print(\"Test set score : \" + format(lasso001.score(X_test , y_test)))\r\n",
    "print(\"Number of features used : \" + format(np.sum(lasso001.coef_!=0)))"
   ],
   "outputs": [
    {
     "output_type": "stream",
     "name": "stdout",
     "text": [
      "Training set score : 0.8962226511086497\n",
      "Test set score : 0.7656571174549982\n",
      "Number of features used : 33\n"
     ]
    }
   ],
   "metadata": {}
  },
  {
   "cell_type": "code",
   "execution_count": 28,
   "source": [
    "lasso0001 = Lasso(alpha = 0.001 , max_iter=100000).fit(X_train , y_train)\r\n",
    "print(\"Training set score : \" + format(lasso0001.score(X_train , y_train)))\r\n",
    "print(\"Test set score : \" + format(lasso0001.score(X_test , y_test)))\r\n",
    "print(\"Number of features used : \" + format(np.sum(lasso0001.coef_!=0)))"
   ],
   "outputs": [
    {
     "output_type": "stream",
     "name": "stdout",
     "text": [
      "Training set score : 0.939282766590254\n",
      "Test set score : 0.7386563657403378\n",
      "Number of features used : 67\n"
     ]
    }
   ],
   "metadata": {}
  },
  {
   "cell_type": "code",
   "execution_count": null,
   "source": [],
   "outputs": [],
   "metadata": {}
  }
 ],
 "metadata": {
  "orig_nbformat": 4,
  "language_info": {
   "name": "python",
   "version": "3.8.10",
   "mimetype": "text/x-python",
   "codemirror_mode": {
    "name": "ipython",
    "version": 3
   },
   "pygments_lexer": "ipython3",
   "nbconvert_exporter": "python",
   "file_extension": ".py"
  },
  "kernelspec": {
   "name": "python3",
   "display_name": "Python 3.8.10 64-bit"
  },
  "interpreter": {
   "hash": "e404b59586357c814bc0d3940e75d6763c00a48753b225b81f7716971b8e1741"
  }
 },
 "nbformat": 4,
 "nbformat_minor": 2
}